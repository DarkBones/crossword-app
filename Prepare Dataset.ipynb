{
 "cells": [
  {
   "cell_type": "markdown",
   "metadata": {},
   "source": [
    "# Import dataset"
   ]
  },
  {
   "cell_type": "code",
   "execution_count": 2,
   "metadata": {},
   "outputs": [],
   "source": [
    "import git\n",
    "import os\n",
    "\n",
    "dataset_dir = 'data'\n",
    "dataset_name = 'nyt_crosswords'\n",
    "dataset_url = 'https://github.com/doshea/nyt_crosswords'\n",
    "dataset_path = os.path.join(dataset_dir, dataset_name)\n",
    "\n",
    "if not os.path.exists(dataset_dir):\n",
    "    os.makedirs(dataset_dir)\n",
    "\n",
    "if not os.path.exists(dataset_path):\n",
    "    git.Git(dataset_dir).clone(dataset_url)"
   ]
  },
  {
   "cell_type": "markdown",
   "metadata": {},
   "source": [
    "# Parsing"
   ]
  },
  {
   "cell_type": "code",
   "execution_count": 6,
   "metadata": {},
   "outputs": [
    {
     "name": "stdout",
     "output_type": "stream",
     "text": [
      "[('SATRAP', 'Subordinate ruler', 6), ('BRITISH', 'Former rulers of Egypt', 7), ('AWAKED', 'Came out of sleep, old-style', 6), ('EQUATE', 'Put on the same level', 6), ('SAVANNA', 'Treeless plain', 7), ('SALAMI', 'It may be in a torpedo', 6), ('CUTTHEPAPERFOLDANDTIE', 'Start of a verse', 21), ('TASSELS', 'Fringe, maybe', 7), ('PARLE', '\"Ici on ___ français\"', 5), ('TOOTS', 'Hon', 5), ('NET', 'Take-home', 3), ('SHONE', 'Was bright', 5), ('AHA', \"Code cracker's comment\", 3), ('BALLAD', 'Sentimental song', 6), ('GLINT', 'Slight manifestation', 5), ('TRADUCED', 'Maligned', 8), ('ODIE', '___ Cologne (skunk of old cartoons)', 4), ('SHIN', 'Climb', 4), ('SHED', 'Cast off', 4), ('SOLA', 'Fa followers', 4), ('SENTENCEDTOTHISJOBAMI', 'Verse, part 2', 21), ('OLD', 'Hoary', 3), ('NOONE', 'Zero population', 5), ('BRANT', 'Small goose', 5), ('VASES', 'Spray displayers', 5), ('MAY', 'Word of possibility', 3), ('SLOT', 'Token taker', 4), ('PLANK', 'One way off a ship', 5), ('ENTRY', 'Vestibule', 5), ('GNAT', 'Itsy-bitsy biter', 4), ('CRIME', 'Record notation', 5), ('LARK', 'Paradigm of happiness', 4), ('BELLA', '\"___ figlia dell\\'amore\" (Verdi quartet)', 5), ('SLOGS', 'Walks heavily', 5), ('GALA', 'Festive', 4), ('ADZ', \"Timberjack's tool\", 3), ('ONAIR', 'Broadcasting', 5), ('STOWE', '\"Dred\" novelist', 5), ('PERIL', 'Life-or-death situation', 5), ('CEE', 'Manufacturing center?', 3), ('WONDERCOULDALEGALCHAP', 'Verse, part 3', 21), ('ECCE', 'Livy\\'s \"Lo!\"', 4), ('HAUT', \"Henri's high\", 4), ('NINE', 'Diamond complement', 4), ('HELP', 'Counseling, e.g.', 4), ('SHERBERT', 'Ice alternative: Var.', 8), ('HANNA', \"Scooby Doo's co-creator\", 5), ('USEDTO', 'In the habit of', 6), ('YAP', 'Big mouth, slangily', 3), ('LEROY', '\"The Syncopated Clock\" composer Anderson', 5), ('ATE', 'Had something', 3), ('AHEAP', 'Lots', 5), ('ISOLA', 'Sicilia, e.g.', 5), ('CANTONS', 'Bern, Geneva and Zurich', 7), ('FINDAWAYTOBEATTHEWRAP', 'End of the verse', 21), ('AROUSE', 'Kindle', 6), ('NUTLIKE', 'Resembling a chanterelle mushroom in flavor', 7), ('ACACIA', 'Mimosa family member', 6), ('NEWEST', 'Right from the factory', 6), ('ESSENCE', 'Soul', 7), ('NASALS', 'Some speech sounds', 6), ('SECT', 'Shakers, e.g.', 4), ('AQUA', 'Cool shade', 4), ('TUTS', 'Mild reproofs', 4), ('RATS', \"Loser's cry\", 4), ('ATHENA', \"She sprang from Zeus's head\", 6), ('PEELED', 'Skinless', 6), ('BSA', 'Grp. associated with dens', 3), ('RAP', 'Record store section', 3), ('IVE', 'Correct ending', 3), ('TARPON', 'Big game fish', 6), ('INFANT', 'Recent delivery', 6), ('SNORE', 'Sound asleep?', 5), ('HALL', 'Kind of monitor', 4), ('ASA', 'Hard-rock center', 3), ('WANTAD', 'Classified', 6), ('ALDO', 'Gucci of fashion', 4), ('KATO', \"The Green Hornet's valet\", 4), ('EMIT', 'Discharge', 4), ('DIES', 'Runs out of steam', 4), ('PST', 'W. Coast setting', 3), ('DEAREST', 'Sweetie pie', 7), ('SLIDE', \"Base coach's urging\", 5), ('HINT', 'Not say directly', 4), ('HADJ', 'Pilgrimage to Mecca', 4), ('BOSOM', \"Abraham's ___ (heaven)\", 5), ('ADELA', 'Miss Quested of \"A Passage to India\"', 5), ('LINDY', 'Jitterbug variety', 5), ('LET', 'Court call', 3), ('GHENT', 'Capital of East Flanders', 5), ('THINK', 'Get lost in a brown study', 5), ('USBANK', 'Wachovia or Chase Manhattan, briefly', 6), ('COAST', 'Ocean liner?', 5), ('ELMER', 'Big name in bonding', 5), ('DAISY', 'Chain component, perhaps', 5), ('SCOOT', 'Hotfoot it', 5), ('SHANE', '1953 film title hero', 5), ('ENSNARE', 'Catch', 7), ('NOLA', '\"Show Boat\" heroine', 4), ('OBLIGED', '\"Much ___!\"', 7), ('TRAMS', 'Colliery carriers', 5), ('OVERALL', 'Covering everything', 7), ('PROWL', 'Move like a puma', 5), ('GLIDER', 'Suspended porch piece', 6), ('CLOUT', 'Pull', 5), ('LARGE', 'Giant', 5), ('ALIA', 'Inter ___', 4), ('BOWES', \"Pitney's partner\", 5), ('ENOCH', \"Tennyson's Arden\", 5), ('LANCE', 'Medieval charging need', 5), ('STOUT', 'Pub potable', 5), ('GEENA', 'Davis of Hollywood', 5), ('ACHED', 'Longed', 5), ('DEALT', 'Ready to be played, in a way', 5), ('ZEPPO', 'Herbert Marx, familiarly', 5), ('SCARPIA', '\"Tosca\" villain', 7), ('PLINY', 'Roman encyclopedist', 5), ('RHEA', \"Cassowary's cousin\", 4), ('ANNO', 'Latin word on a monument', 4), ('CHE', 'Subject of \"The Motorcycle Diaries\"', 3), ('BYPASS', 'Go around', 6), ('HELOTS', 'Ancient serfs', 6), ('ARABLE', 'Like farmland', 6), ('UTAHAN', 'West Jordan resident', 6), ('SENECA', '\"Epistulae morales\" writer', 6), ('LOTUS', 'Big name in computer software', 5), ('ACT', 'Take steps', 3), ('AFAN', 'Diego Velázquez\\'s \"Lady With ___\"', 4), ('HIRE', 'Take on', 4), ('ENOW', 'Ample, poetically', 4), ('ADUE', 'Together, in music', 4), ('SYNE', \"End of a New Year's classic\", 4), ('TWAS', 'Start of a Christmas classic', 4), ('ORCA', 'Ocean danger', 4), ('NAIL', 'Catch but good', 4), ('SPAS', 'Places to get steamed', 4), ('WET', 'Slick', 3), ('EIN', 'A as in Austria', 3), ('AKC', 'Org. that registers boxers', 3), ('TEE', 'Something to drive off of', 3)]\n"
     ]
    }
   ],
   "source": [
    "import json\n",
    "import re\n",
    "\n",
    "def read_file(path):\n",
    "    file = open(path, 'r')\n",
    "    data = json.loads(file.read())\n",
    "    file.close()\n",
    "    return data\n",
    "\n",
    "def data_is_valid(data):\n",
    "    answers = data['answers']['across'] + data['answers']['down']\n",
    "    clues = data['clues']['across'] + data['clues']['down']\n",
    "    \n",
    "    return len(answers) == len(clues)\n",
    "\n",
    "def parse_data(data):\n",
    "    words = []\n",
    "    answers = data['answers']['across'] + data['answers']['down']\n",
    "    clues = data['clues']['across'] + data['clues']['down']\n",
    "    \n",
    "    for i in range(len(answers)):\n",
    "        word = answers[i]\n",
    "        clue = re.sub(r'^[0-9]+\\.\\s', '', clues[i])\n",
    "        words.append((word, clue))\n",
    "    \n",
    "    print(words)\n",
    "\n",
    "bad_files = []\n",
    "for root, dirs, files in os.walk(dataset_path, topdown=False):\n",
    "    for name in files:\n",
    "        if name.endswith('.json'):\n",
    "            path = os.path.join(root, name)\n",
    "            data = read_file(path)\n",
    "            \n",
    "            if data_is_valid(data):\n",
    "                parse_data(data)\n",
    "            else:\n",
    "                bad_files.append(path)\n",
    "            \n",
    "            break\n",
    "        break\n",
    "    break"
   ]
  },
  {
   "cell_type": "code",
   "execution_count": null,
   "metadata": {},
   "outputs": [],
   "source": []
  }
 ],
 "metadata": {
  "kernelspec": {
   "display_name": "Python 3",
   "language": "python",
   "name": "python3"
  },
  "language_info": {
   "codemirror_mode": {
    "name": "ipython",
    "version": 3
   },
   "file_extension": ".py",
   "mimetype": "text/x-python",
   "name": "python",
   "nbconvert_exporter": "python",
   "pygments_lexer": "ipython3",
   "version": "3.8.5"
  }
 },
 "nbformat": 4,
 "nbformat_minor": 4
}
