{
 "cells": [
  {
   "cell_type": "markdown",
   "metadata": {},
   "source": [
    "# Import dataset"
   ]
  },
  {
   "cell_type": "code",
   "execution_count": 6,
   "metadata": {},
   "outputs": [],
   "source": [
    "import git\n",
    "import os\n",
    "\n",
    "dataset_dir = 'data'\n",
    "dataset_name = 'nyt_crosswords'\n",
    "dataset_url = 'https://github.com/doshea/nyt_crosswords'\n",
    "dataset_path = os.path.join(dataset_dir, dataset_name)\n",
    "\n",
    "words_file_path = os.path.join(dataset_dir, 'words')\n",
    "clues_file_path = os.path.join(dataset_dir, 'clues')\n",
    "\n",
    "max_word_length = 12\n",
    "min_word_length = 4\n",
    "\n",
    "if not os.path.exists(dataset_dir):\n",
    "    os.makedirs(dataset_dir)\n",
    "\n",
    "if not os.path.exists(dataset_path):\n",
    "    git.Git(dataset_dir).clone(dataset_url)"
   ]
  },
  {
   "cell_type": "markdown",
   "metadata": {},
   "source": [
    "# Parsing"
   ]
  },
  {
   "cell_type": "code",
   "execution_count": 8,
   "metadata": {},
   "outputs": [
    {
     "name": "stdout",
     "output_type": "stream",
     "text": [
      "0\n",
      "1000\n",
      "2000\n",
      "3000\n",
      "4000\n",
      "5000\n",
      "6000\n",
      "7000\n",
      "8000\n",
      "9000\n",
      "10000\n",
      "11000\n",
      "12000\n",
      "13000\n",
      "14000\n"
     ]
    }
   ],
   "source": [
    "import json\n",
    "import re\n",
    "\n",
    "def read_file(path):\n",
    "    try:\n",
    "        file = open(path, 'r')\n",
    "        data = json.loads(file.read())\n",
    "        file.close()\n",
    "    except:\n",
    "        return\n",
    "    return data\n",
    "\n",
    "def data_is_valid(data):\n",
    "    if data is None:\n",
    "        return False\n",
    "\n",
    "    answers = data['answers']['across'] + data['answers']['down']\n",
    "    clues = data['clues']['across'] + data['clues']['down']\n",
    "    \n",
    "    return len(answers) == len(clues)\n",
    "\n",
    "def parse_data(data):\n",
    "    answers = data['answers']['across'] + data['answers']['down']\n",
    "    clues = data['clues']['across'] + data['clues']['down']\n",
    "\n",
    "    words_file = open(words_file_path, 'a')\n",
    "    clues_file = open(clues_file_path, 'a')\n",
    "    for i in range(len(answers)):\n",
    "        word = answers[i]\n",
    "        clue = re.sub(r'^[0-9]+\\.\\s', '', clues[i])\n",
    "        length = len(word)\n",
    "        \n",
    "        if length <= max_word_length and length >= min_word_length:\n",
    "            words_file.write(word + '\\n')\n",
    "            clues_file.write(clue + '\\n')\n",
    "    \n",
    "    words_file.close()\n",
    "    clues_file.close()\n",
    "\n",
    "if os.path.exists(words_file_path):\n",
    "    os.remove(words_file_path)\n",
    "if os.path.exists(clues_file_path):\n",
    "    os.remove(clues_file_path)\n",
    "\n",
    "n = 0\n",
    "for root, dirs, files in os.walk(dataset_path, topdown=False):\n",
    "    for name in files:\n",
    "        if name.endswith('.json'):\n",
    "            path = os.path.join(root, name)\n",
    "            data = read_file(path)\n",
    "            \n",
    "            if n % 1000 == 0:\n",
    "                print(n)\n",
    "            \n",
    "            n += 1\n",
    "            \n",
    "            if data_is_valid(data):\n",
    "                parse_data(data)"
   ]
  },
  {
   "cell_type": "markdown",
   "metadata": {},
   "source": [
    "# Remove original data"
   ]
  },
  {
   "cell_type": "code",
   "execution_count": 3,
   "metadata": {},
   "outputs": [],
   "source": [
    "import shutil\n",
    "\n",
    "shutil.rmtree(dataset_path)"
   ]
  },
  {
   "cell_type": "code",
   "execution_count": null,
   "metadata": {},
   "outputs": [],
   "source": []
  }
 ],
 "metadata": {
  "kernelspec": {
   "display_name": "Python 3",
   "language": "python",
   "name": "python3"
  },
  "language_info": {
   "codemirror_mode": {
    "name": "ipython",
    "version": 3
   },
   "file_extension": ".py",
   "mimetype": "text/x-python",
   "name": "python",
   "nbconvert_exporter": "python",
   "pygments_lexer": "ipython3",
   "version": "3.8.5"
  }
 },
 "nbformat": 4,
 "nbformat_minor": 4
}
