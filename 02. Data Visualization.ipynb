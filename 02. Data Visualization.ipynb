{
 "cells": [
  {
   "cell_type": "code",
   "execution_count": 4,
   "metadata": {},
   "outputs": [],
   "source": [
    "import os\n",
    "\n",
    "words_file_path = os.path.join('data', 'words')"
   ]
  },
  {
   "cell_type": "markdown",
   "metadata": {},
   "source": [
    "# Word Lengths"
   ]
  },
  {
   "cell_type": "code",
   "execution_count": 51,
   "metadata": {},
   "outputs": [],
   "source": [
    "f = open(words_file_path)\n",
    "lines = f.readlines()\n",
    "\n",
    "lengths = {}\n",
    "\n",
    "n = 0\n",
    "max_n = 0\n",
    "for line in lines:\n",
    "    length = len(line.strip())\n",
    "    \n",
    "    if length > 0:\n",
    "        if length in lengths:\n",
    "            lengths[length] = lengths[length] + 1\n",
    "        else:\n",
    "            lengths[length] = 1\n",
    "    \n",
    "    n += 1\n",
    "    if n > max_n and max_n > 0:\n",
    "        break\n",
    "\n",
    "f.close()"
   ]
  },
  {
   "cell_type": "code",
   "execution_count": 52,
   "metadata": {},
   "outputs": [
    {
     "name": "stdout",
     "output_type": "stream",
     "text": [
      "3:\t4\n",
      "4:\t392609\n",
      "5:\t293837\n",
      "6:\t135491\n",
      "7:\t78506\n",
      "8:\t44907\n",
      "9:\t22050\n",
      "10:\t18003\n",
      "11:\t9357\n",
      "12:\t4674\n"
     ]
    }
   ],
   "source": [
    "for k in sorted(lengths):\n",
    "    print(f'{k}:\\t{lengths[k]}')"
   ]
  },
  {
   "cell_type": "code",
   "execution_count": 54,
   "metadata": {},
   "outputs": [
    {
     "data": {
      "image/png": "[encoded data removed]",
      "text/plain": [
       "<Figure size 432x288 with 1 Axes>"
      ]
     },
     "metadata": {
      "needs_background": "light"
     },
     "output_type": "display_data"
    }
   ],
   "source": [
    "import matplotlib.pyplot as plt\n",
    "\n",
    "plt.bar(list(lengths.keys()), lengths.values())\n",
    "plt.show()"
   ]
  },
  {
   "cell_type": "code",
   "execution_count": null,
   "metadata": {},
   "outputs": [],
   "source": []
  }
 ],
 "metadata": {
  "kernelspec": {
   "display_name": "Python 3",
   "language": "python",
   "name": "python3"
  },
  "language_info": {
   "codemirror_mode": {
    "name": "ipython",
    "version": 3
   },
   "file_extension": ".py",
   "mimetype": "text/x-python",
   "name": "python",
   "nbconvert_exporter": "python",
   "pygments_lexer": "ipython3",
   "version": "3.8.5"
  }
 },
 "nbformat": 4,
 "nbformat_minor": 4
}
